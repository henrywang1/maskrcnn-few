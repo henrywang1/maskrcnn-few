{
 "cells": [
  {
   "cell_type": "code",
   "execution_count": null,
   "metadata": {},
   "outputs": [],
   "source": []
  },
  {
   "cell_type": "code",
   "execution_count": 1,
   "metadata": {},
   "outputs": [],
   "source": [
    "import seaborn as sns\n",
    "import matplotlib.pyplot as plt\n",
    "import glob\n",
    "import seaborn as sns; # sns.set()\n",
    "# plt.rcParams['figure.figsize']=(15,10)\n",
    "\n",
    "# fmri = sns.load_dataset(\"fmri\")\n",
    "# ax = sns.lineplot(x=\"timepoint\", y=\"signal\", data=fmri)\n",
    "# sns.palplot(sns.color_palette(\"Blues\"))\n",
    "# sns.set_palette(\"Blues\")"
   ]
  },
  {
   "cell_type": "code",
   "execution_count": null,
   "metadata": {},
   "outputs": [],
   "source": [
    "\n"
   ]
  },
  {
   "cell_type": "code",
   "execution_count": 2,
   "metadata": {},
   "outputs": [],
   "source": [
    "import torch\n",
    "import pandas as pd\n",
    "row_list = []\n",
    "# df = pd.DataFrame(columns=['expand-ratio', 'AP50', 'qty2']) #mAP^r_50\n",
    "# for ratio in [\"m_25\", \"m_20\", \"m_15\", \"m_10\", \"m_5\", \"0\", \"5\", \"10\", \"15\", \"20\",]:\n",
    "for ratio in [\"m_20\", \"m_10\", \"0\", \"10\", \"20\",]:\n",
    "    paths = glob.glob(\"../outputs/lvis_expand_{0}_1shot/coco_results*.pth\".format(ratio))\n",
    "    for path in paths:\n",
    "        log = torch.load(path)\n",
    "        if ratio.startswith(\"m_\"):\n",
    "            ratio = \"-\" + ratio[2:]\n",
    "        row = {\"expand-ratio\": int(ratio), \"AP50\": log.results[\"segm\"][\"AP50\"]}\n",
    "        row_list.append(row)\n",
    "    # ap50.append(log.results[\"segm\"][\"AP50\"])\n",
    "df = pd.DataFrame(row_list) "
   ]
  },
  {
   "cell_type": "code",
   "execution_count": 3,
   "metadata": {},
   "outputs": [
    {
     "data": {
      "text/html": [
       "<div>\n",
       "<style scoped>\n",
       "    .dataframe tbody tr th:only-of-type {\n",
       "        vertical-align: middle;\n",
       "    }\n",
       "\n",
       "    .dataframe tbody tr th {\n",
       "        vertical-align: top;\n",
       "    }\n",
       "\n",
       "    .dataframe thead th {\n",
       "        text-align: right;\n",
       "    }\n",
       "</style>\n",
       "<table border=\"1\" class=\"dataframe\">\n",
       "  <thead>\n",
       "    <tr style=\"text-align: right;\">\n",
       "      <th></th>\n",
       "      <th>expand-ratio</th>\n",
       "      <th>AP50</th>\n",
       "    </tr>\n",
       "  </thead>\n",
       "  <tbody>\n",
       "    <tr>\n",
       "      <td>0</td>\n",
       "      <td>-20</td>\n",
       "      <td>0.282713</td>\n",
       "    </tr>\n",
       "    <tr>\n",
       "      <td>1</td>\n",
       "      <td>-20</td>\n",
       "      <td>0.255774</td>\n",
       "    </tr>\n",
       "    <tr>\n",
       "      <td>2</td>\n",
       "      <td>-20</td>\n",
       "      <td>0.262428</td>\n",
       "    </tr>\n",
       "    <tr>\n",
       "      <td>3</td>\n",
       "      <td>-20</td>\n",
       "      <td>0.277278</td>\n",
       "    </tr>\n",
       "    <tr>\n",
       "      <td>4</td>\n",
       "      <td>-20</td>\n",
       "      <td>0.253950</td>\n",
       "    </tr>\n",
       "    <tr>\n",
       "      <td>5</td>\n",
       "      <td>-10</td>\n",
       "      <td>0.281570</td>\n",
       "    </tr>\n",
       "    <tr>\n",
       "      <td>6</td>\n",
       "      <td>-10</td>\n",
       "      <td>0.272654</td>\n",
       "    </tr>\n",
       "    <tr>\n",
       "      <td>7</td>\n",
       "      <td>-10</td>\n",
       "      <td>0.283645</td>\n",
       "    </tr>\n",
       "    <tr>\n",
       "      <td>8</td>\n",
       "      <td>-10</td>\n",
       "      <td>0.286142</td>\n",
       "    </tr>\n",
       "    <tr>\n",
       "      <td>9</td>\n",
       "      <td>-10</td>\n",
       "      <td>0.280366</td>\n",
       "    </tr>\n",
       "    <tr>\n",
       "      <td>10</td>\n",
       "      <td>0</td>\n",
       "      <td>0.280531</td>\n",
       "    </tr>\n",
       "    <tr>\n",
       "      <td>11</td>\n",
       "      <td>0</td>\n",
       "      <td>0.281090</td>\n",
       "    </tr>\n",
       "    <tr>\n",
       "      <td>12</td>\n",
       "      <td>0</td>\n",
       "      <td>0.275105</td>\n",
       "    </tr>\n",
       "    <tr>\n",
       "      <td>13</td>\n",
       "      <td>0</td>\n",
       "      <td>0.269981</td>\n",
       "    </tr>\n",
       "    <tr>\n",
       "      <td>14</td>\n",
       "      <td>0</td>\n",
       "      <td>0.290029</td>\n",
       "    </tr>\n",
       "    <tr>\n",
       "      <td>15</td>\n",
       "      <td>10</td>\n",
       "      <td>0.252104</td>\n",
       "    </tr>\n",
       "    <tr>\n",
       "      <td>16</td>\n",
       "      <td>10</td>\n",
       "      <td>0.262026</td>\n",
       "    </tr>\n",
       "    <tr>\n",
       "      <td>17</td>\n",
       "      <td>10</td>\n",
       "      <td>0.256472</td>\n",
       "    </tr>\n",
       "    <tr>\n",
       "      <td>18</td>\n",
       "      <td>10</td>\n",
       "      <td>0.272237</td>\n",
       "    </tr>\n",
       "    <tr>\n",
       "      <td>19</td>\n",
       "      <td>10</td>\n",
       "      <td>0.264932</td>\n",
       "    </tr>\n",
       "    <tr>\n",
       "      <td>20</td>\n",
       "      <td>20</td>\n",
       "      <td>0.243727</td>\n",
       "    </tr>\n",
       "    <tr>\n",
       "      <td>21</td>\n",
       "      <td>20</td>\n",
       "      <td>0.245091</td>\n",
       "    </tr>\n",
       "    <tr>\n",
       "      <td>22</td>\n",
       "      <td>20</td>\n",
       "      <td>0.245846</td>\n",
       "    </tr>\n",
       "    <tr>\n",
       "      <td>23</td>\n",
       "      <td>20</td>\n",
       "      <td>0.258462</td>\n",
       "    </tr>\n",
       "    <tr>\n",
       "      <td>24</td>\n",
       "      <td>20</td>\n",
       "      <td>0.240821</td>\n",
       "    </tr>\n",
       "  </tbody>\n",
       "</table>\n",
       "</div>"
      ],
      "text/plain": [
       "    expand-ratio      AP50\n",
       "0            -20  0.282713\n",
       "1            -20  0.255774\n",
       "2            -20  0.262428\n",
       "3            -20  0.277278\n",
       "4            -20  0.253950\n",
       "5            -10  0.281570\n",
       "6            -10  0.272654\n",
       "7            -10  0.283645\n",
       "8            -10  0.286142\n",
       "9            -10  0.280366\n",
       "10             0  0.280531\n",
       "11             0  0.281090\n",
       "12             0  0.275105\n",
       "13             0  0.269981\n",
       "14             0  0.290029\n",
       "15            10  0.252104\n",
       "16            10  0.262026\n",
       "17            10  0.256472\n",
       "18            10  0.272237\n",
       "19            10  0.264932\n",
       "20            20  0.243727\n",
       "21            20  0.245091\n",
       "22            20  0.245846\n",
       "23            20  0.258462\n",
       "24            20  0.240821"
      ]
     },
     "execution_count": 3,
     "metadata": {},
     "output_type": "execute_result"
    }
   ],
   "source": [
    "df"
   ]
  },
  {
   "cell_type": "code",
   "execution_count": 4,
   "metadata": {},
   "outputs": [
    {
     "data": {
      "text/plain": [
       "array([-20., -10.,   0.,  10.,  20.])"
      ]
     },
     "execution_count": 4,
     "metadata": {},
     "output_type": "execute_result"
    }
   ],
   "source": [
    "import numpy as np\n",
    "np.arange(-20, 30, 10.0)"
   ]
  },
  {
   "cell_type": "code",
   "execution_count": 5,
   "metadata": {},
   "outputs": [],
   "source": [
    "df[\"AP50\"] = df[\"AP50\"]*100 "
   ]
  },
  {
   "cell_type": "code",
   "execution_count": 6,
   "metadata": {},
   "outputs": [
    {
     "data": {
      "image/png": "[encoded data removed]",
      "text/plain": [
       "<Figure size 432x288 with 1 Axes>"
      ]
     },
     "metadata": {},
     "output_type": "display_data"
    }
   ],
   "source": [
    "\n",
    "# plt.rcParams[\"font.family\"] = \"Times New Roman\"\n",
    "# plt.rcParams['font.family'] = 'serif'\n",
    "\n",
    "# plt.rcParams['font.serif'] = ['Times']\n",
    "sns.set_style(\"white\")\n",
    "\n",
    "# sns.set_style(\"darkgrid\", {\n",
    "#     \"font.family\": \"serif\",\n",
    "#     \"font.serif\": [\"Times\", \"Palatino\", \"serif\"]\n",
    "# })\n",
    "\n",
    "plt.rcParams['font.serif'] = ['Times New Roman'] + plt.rcParams['font.serif']\n",
    "# plt.rcParams['font.family'] = ['serif']\n",
    "plt.rcParams[\"mathtext.fontset\"] = \"stix\"\n",
    "# sns.set(font='Times New Roman',)\n",
    "# sns.set_style(\"ticks\")\n",
    "# sns.set_style({'font.family': 'Times New Roman'})\n",
    "sns.set_context(\"paper\", font_scale=1.8)\n",
    "# plt.rc('font',family='serif') \n",
    "# , err_style=\"bars\"  ci=95\n",
    "ax = sns.lineplot(x=\"expand-ratio\", y=\"AP50\",err_style=\"bars\", data=df, ci=68)\n",
    "ax.set(xlabel='expand ratio (%)', ylabel='$mAP^{r}_{0.5}$')\n",
    "# xranges = [str(r) for r in xranges]\n",
    "ax.set_xticks(np.arange(-20.0, 30.0, 10.0))\n",
    "ax.set_yticks(np.arange(24.0, 30.0, 1.0))\n",
    "ax.get_figure().savefig(\"expand.pdf\", bbox_inches ='tight')\n",
    "# plt.savefig(\"expand.pdf\")"
   ]
  },
  {
   "cell_type": "code",
   "execution_count": null,
   "metadata": {},
   "outputs": [],
   "source": []
  },
  {
   "cell_type": "code",
   "execution_count": 7,
   "metadata": {},
   "outputs": [],
   "source": [
    "for shot in [\"m_20\", \"m_10\", \"0\", \"10\", \"20\",]:\n",
    "    paths = glob.glob(\"../outputs/lvis_expand_{0}_1shot/coco_results*.pth\".format(ratio))\n",
    "    for path in paths:\n",
    "        log = torch.load(path)\n",
    "        if ratio.startswith(\"m_\"):\n",
    "            ratio = \"-\" + ratio[2:]\n",
    "        row = {\"expand-ratio\": int(ratio), \"AP50\": log.results[\"segm\"][\"AP50\"]}\n",
    "        row_list.append(row)\n",
    "    # ap50.append(log.results[\"segm\"][\"AP50\"])\n",
    "df = pd.DataFrame(row_list)"
   ]
  },
  {
   "cell_type": "code",
   "execution_count": 8,
   "metadata": {},
   "outputs": [
    {
     "data": {
      "image/png": "[encoded data removed]",
      "text/plain": [
       "<Figure size 432x288 with 1 Axes>"
      ]
     },
     "metadata": {},
     "output_type": "display_data"
    }
   ],
   "source": [
    "# for shot in [1, 5, 10, 15, 20]:\n",
    "#     print(shot)\n",
    "sns.set_style(\"white\")\n",
    "plt.rcParams['font.serif'] = ['Times New Roman'] + plt.rcParams['font.serif']\n",
    "# plt.rcParams['font.family'] = ['serif']\n",
    "# plt.rcParams[\"mathtext.fontset\"] = \"stix\"\n",
    "plt.rcParams[\"mathtext.fontset\"] = \"stix\"\n",
    "sns.set_context(\"paper\", font_scale=1.8)\n",
    "y = [15.3, 18.7,19.5,19.8,19.9]\n",
    "x = [1, 5, 10, 15, 20]\n",
    "yerr = [0.6,0.4,0.2,0.1,0.1]\n",
    "ax = sns.lineplot(x=x, y=y)\n",
    "ax.set_xlim([0, 21])\n",
    "ax.set_xticks([1, 5, 10, 15, 20])\n",
    "ax.set(xlabel='shots', ylabel='$mAP^{r}_{0.5}$')\n",
    "plt.errorbar(x=x, y=y, yerr=yerr, color=\"#1f77b4\")\n",
    "ax.get_figure().savefig(\"fig_shot.pdf\", bbox_inches ='tight')"
   ]
  },
  {
   "cell_type": "code",
   "execution_count": null,
   "metadata": {},
   "outputs": [],
   "source": []
  },
  {
   "cell_type": "code",
   "execution_count": 9,
   "metadata": {},
   "outputs": [
    {
     "data": {
      "image/png": "[encoded data removed]",
      "text/plain": [
       "<Figure size 432x288 with 1 Axes>"
      ]
     },
     "metadata": {},
     "output_type": "display_data"
    }
   ],
   "source": [
    "import torch\n",
    "import pandas as pd\n",
    "row_list = [\n",
    "    {\"expand-ratio\": -15, \"AP50\": 20.3},\n",
    "    {\"expand-ratio\": -10, \"AP50\": 41.3},\n",
    "    {\"expand-ratio\": -5, \"AP50\": 56.5},\n",
    "    {\"expand-ratio\": -0, \"AP50\": 56.2},\n",
    "    {\"expand-ratio\": 5, \"AP50\": 54.0},\n",
    "    {\"expand-ratio\": 10, \"AP50\": 52.2},\n",
    "    {\"expand-ratio\": 15, \"AP50\": 50.0},\n",
    "]\n",
    "\n",
    "df = pd.DataFrame(row_list) \n",
    "\n",
    "# TAPMI Fig          \n",
    "# plt.rcParams[\"font.family\"] = \"Times New Roman\"\n",
    "# plt.rcParams['font.family'] = 'serif'\n",
    "\n",
    "# plt.rcParams['font.serif'] = ['Times']\n",
    "sns.set_style(\"white\")\n",
    "\n",
    "# sns.set_style(\"darkgrid\", {\n",
    "#     \"font.family\": \"serif\",\n",
    "#     \"font.serif\": [\"Times\", \"Palatino\", \"serif\"]\n",
    "# })\n",
    "\n",
    "plt.rcParams['font.serif'] = ['Times New Roman'] + plt.rcParams['font.serif']\n",
    "# plt.rcParams['font.family'] = ['serif']\n",
    "plt.rcParams[\"mathtext.fontset\"] = \"stix\"\n",
    "# sns.set(font='Times New Roman',)\n",
    "# sns.set_style(\"ticks\")\n",
    "# sns.set_style({'font.family': 'Times New Roman'})\n",
    "sns.set_context(\"paper\", font_scale=1.8)\n",
    "# plt.rc('font',family='serif') \n",
    "# , err_style=\"bars\"  ci=95\n",
    "ax = sns.lineplot(x=\"expand-ratio\", y=\"AP50\",err_style=\"bars\", \n",
    "                  data=df, marker='o', markersize=8)\n",
    "ax.set(xlabel='ratio', ylabel='$mAP^{r}_{0.5}$')\n",
    "# xranges = [str(r) for r in xranges]\n",
    "ax.set_xticks(np.arange(-15.0, 20.0, 10.0))\n",
    "ax.set_yticks(np.arange(15.0, 60.0, 10.0))\n",
    "ax.get_figure().savefig(\"RobustnessStudies.pdf\", bbox_inches ='tight')\n",
    "# plt.savefig(\"expand.pdf\") "
   ]
  },
  {
   "cell_type": "code",
   "execution_count": 10,
   "metadata": {},
   "outputs": [
    {
     "data": {
      "image/png": "[encoded data removed]",
      "text/plain": [
       "<Figure size 432x288 with 1 Axes>"
      ]
     },
     "metadata": {},
     "output_type": "display_data"
    }
   ],
   "source": [
    "import torch\n",
    "import pandas as pd\n",
    "row_list = [\n",
    "    {\"expand-ratio\": 1.0, \"AP50\": 20.3},\n",
    "    {\"expand-ratio\": 1.5, \"AP50\": 41.3},\n",
    "    {\"expand-ratio\": 2.0, \"AP50\": 56.5},\n",
    "]\n",
    "\n",
    "df = pd.DataFrame(row_list) \n",
    "\n",
    "# TAPMI Fig          \n",
    "# plt.rcParams[\"font.family\"] = \"Times New Roman\"\n",
    "# plt.rcParams['font.family'] = 'serif'\n",
    "\n",
    "# plt.rcParams['font.serif'] = ['Times']\n",
    "sns.set_style(\"white\")\n",
    "\n",
    "# sns.set_style(\"darkgrid\", {\n",
    "#     \"font.family\": \"serif\",\n",
    "#     \"font.serif\": [\"Times\", \"Palatino\", \"serif\"]\n",
    "# })\n",
    "\n",
    "plt.rcParams['font.serif'] = ['Times New Roman'] + plt.rcParams['font.serif']\n",
    "# plt.rcParams['font.family'] = ['serif']\n",
    "plt.rcParams[\"mathtext.fontset\"] = \"stix\"\n",
    "# sns.set(font='Times New Roman',)\n",
    "# sns.set_style(\"ticks\")\n",
    "# sns.set_style({'font.family': 'Times New Roman'})\n",
    "sns.set_context(\"paper\", font_scale=1.8)\n",
    "# plt.rc('font',family='serif') \n",
    "# , err_style=\"bars\"  ci=95\n",
    "ax = sns.lineplot(x=\"expand-ratio\", y=\"AP50\", markers=True, data=df, marker='o', markersize=8)\n",
    "ax.set(xlabel='ratio', ylabel='$mAP^{r}_{0.5}$')\n",
    "# xranges = [str(r) for r in xranges]\n",
    "\n",
    "ax.set_xticks(np.arange(1.0, 2.1, 0.5))\n",
    "ax.set_xticklabels([r'$\\times 1.0$', r'$\\times 1.5$', r'$\\times 2.0$'])\n",
    "ax.set_yticks(np.arange(20.0, 70.0, 10.0))\n",
    "ax.get_figure().savefig(\"AnnotationEffortStudies.pdf\", bbox_inches ='tight')\n",
    "# plt.savefig(\"expand.pdf\") "
   ]
  },
  {
   "cell_type": "code",
   "execution_count": null,
   "metadata": {},
   "outputs": [],
   "source": []
  },
  {
   "cell_type": "code",
   "execution_count": 14,
   "metadata": {},
   "outputs": [
    {
     "data": {
      "image/png": "[encoded data removed]",
      "text/plain": [
       "<Figure size 504x360 with 1 Axes>"
      ]
     },
     "metadata": {},
     "output_type": "display_data"
    }
   ],
   "source": [
    "import torch\n",
    "import pandas as pd\n",
    "row_list = [\n",
    "    {\"threshold\": '$mAP^{r}_{0.5}$', \"type\":\"$\\psi$\", \"AP50\": 39.0},\n",
    "    {\"threshold\": '$mAP^{r}_{0.5}$', \"type\":\"$\\psi+\\phi$\", \"AP50\": 50.6},\n",
    "    {\"threshold\": '$mAP^{r}_{0.5}$', \"type\":\"$\\psi+\\phi+D$\", \"AP50\": 56.2},\n",
    "    {\"threshold\": '$mAP^{r}_{0.7}$', \"type\":\"$\\psi$\", \"AP50\": 6.2},\n",
    "    {\"threshold\": '$mAP^{r}_{0.7}$', \"type\":\"$\\psi+\\phi$\", \"AP50\": 20.0},\n",
    "    {\"threshold\": '$mAP^{r}_{0.7}$', \"type\":\"$\\psi+\\phi+D$\", \"AP50\": 26.3},\n",
    "]\n",
    "\n",
    "df = pd.DataFrame(row_list) \n",
    "\n",
    "# TAPMI Fig          \n",
    "# plt.rcParams[\"font.family\"] = \"Times New Roman\"\n",
    "# plt.rcParams['font.family'] = 'serif'\n",
    "\n",
    "# plt.rcParams['font.serif'] = ['Times']\n",
    "sns.set_style(\"white\")\n",
    "\n",
    "# sns.set_style(\"darkgrid\", {\n",
    "#     \"font.family\": \"serif\",\n",
    "#     \"font.serif\": [\"Times\", \"Palatino\", \"serif\"]\n",
    "# })\n",
    "# sns.set(rc={'figure.figsize':(100,10)})\n",
    "plt.rcParams['font.serif'] = ['Times New Roman'] + plt.rcParams['font.serif']\n",
    "# plt.rcParams['font.family'] = ['serif']\n",
    "plt.rcParams[\"mathtext.fontset\"] = \"stix\"\n",
    "# sns.set(font='Times New Roman',)\n",
    "# sns.set_style(\"ticks\")\n",
    "# sns.set_style({'font.family': 'Times New Roman'})\n",
    "sns.set_context(\"paper\", font_scale=1.8)\n",
    "# plt.rc('font',family='serif') \n",
    "# , err_style=\"bars\"  ci=95\n",
    "ax = sns.catplot(x=\"threshold\", y=\"AP50\", hue=\"type\", data=df,\n",
    "                 kind=\"bar\",  legend_out=False, aspect=1.4)\n",
    "ax.set(xlabel=None, ylabel=None)\n",
    "# xranges = [str(r) for r in xranges]\n",
    "plt.legend(title=None)\n",
    "# ax.set_xticks(np.arange(1.0, 2.1, 0.5))\n",
    "# ax.set_xticklabels([r'$\\times 1.0$', r'$\\times 1.5$', r'$\\times 2.0$'])\n",
    "# ax.set_yticks(np.arange(20.0, 70.0, 10.0))\n",
    "ax.savefig(\"Ab_Stu.pdf\", bbox_inches ='tight')\n",
    "# plt.savefig(\"expand.pdf\") "
   ]
  },
  {
   "cell_type": "code",
   "execution_count": 12,
   "metadata": {},
   "outputs": [
    {
     "data": {
      "text/plain": [
       "<seaborn.axisgrid.FacetGrid at 0x7efd4c0064d0>"
      ]
     },
     "execution_count": 12,
     "metadata": {},
     "output_type": "execute_result"
    }
   ],
   "source": [
    "ax"
   ]
  },
  {
   "cell_type": "code",
   "execution_count": null,
   "metadata": {},
   "outputs": [],
   "source": []
  },
  {
   "cell_type": "code",
   "execution_count": null,
   "metadata": {},
   "outputs": [],
   "source": []
  }
 ],
 "metadata": {
  "kernelspec": {
   "display_name": "Python 3",
   "language": "python",
   "name": "python3"
  },
  "language_info": {
   "codemirror_mode": {
    "name": "ipython",
    "version": 3
   },
   "file_extension": ".py",
   "mimetype": "text/x-python",
   "name": "python",
   "nbconvert_exporter": "python",
   "pygments_lexer": "ipython3",
   "version": "3.7.4"
  }
 },
 "nbformat": 4,
 "nbformat_minor": 2
}
